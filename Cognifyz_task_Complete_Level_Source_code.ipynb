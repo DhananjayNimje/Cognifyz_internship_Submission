{
 "cells": [
  {
   "cell_type": "markdown",
   "id": "25291283",
   "metadata": {},
   "source": [
    "## Cognifyz Internship Program - Restaurant Data Analysis"
   ]
  },
  {
   "cell_type": "markdown",
   "id": "af35d9de",
   "metadata": {},
   "source": [
    "#### About Cognifyz\n",
    "Cognifyz Technologies is a leading technology company that specializes in the dynamic field of data science and excels in\n",
    "delivering impactful projects and solutions.\n",
    "The company offers a wide range of products and services,including artificial intelligence (AI), machine learning (ML), and data analytics tools.\n",
    "Cognifyz Technologies also provides training programs to enhance skills and knowledge in these areas.\n",
    "The company focuses on delivering innovative and cutting-edge solutions to meet the evolving needs of businesses\n",
    "\n",
    "\n"
   ]
  },
  {
   "cell_type": "markdown",
   "id": "3aeb871c",
   "metadata": {},
   "source": [
    "### Objectives \n",
    "In this internship program, Cognifyz Provided a Set of restaurant dataset. The main objective of the project is to derive valuable insights from the datasets, gain a comprehension of customer behavior, examine the sales and pricing, monitor the services and evalute the performance of restaurant.This data holds significance for decision- making for new chain establishment, refining the market strategies and enhancing overall business operations pertaining to the sales and services."
   ]
  },
  {
   "cell_type": "code",
   "execution_count": 1,
   "id": "2d45cb9f",
   "metadata": {},
   "outputs": [],
   "source": [
    "#Importing The libraries\n",
    "import pandas as pd\n",
    "import matplotlib.pyplot as plt\n",
    "import seaborn as sns\n",
    "sns.set()\n",
    "\n",
    "from collections import Counter\n",
    "import warnings\n",
    "warnings.filterwarnings('ignore')"
   ]
  },
  {
   "cell_type": "markdown",
   "id": "00ee3e84",
   "metadata": {},
   "source": [
    "### Data Extraction"
   ]
  },
  {
   "cell_type": "code",
   "execution_count": 2,
   "id": "cb30bb02",
   "metadata": {},
   "outputs": [
    {
     "data": {
      "text/html": [
       "<div>\n",
       "<style scoped>\n",
       "    .dataframe tbody tr th:only-of-type {\n",
       "        vertical-align: middle;\n",
       "    }\n",
       "\n",
       "    .dataframe tbody tr th {\n",
       "        vertical-align: top;\n",
       "    }\n",
       "\n",
       "    .dataframe thead th {\n",
       "        text-align: right;\n",
       "    }\n",
       "</style>\n",
       "<table border=\"1\" class=\"dataframe\">\n",
       "  <thead>\n",
       "    <tr style=\"text-align: right;\">\n",
       "      <th></th>\n",
       "      <th>Restaurant ID</th>\n",
       "      <th>Restaurant Name</th>\n",
       "      <th>Country Code</th>\n",
       "      <th>City</th>\n",
       "      <th>Address</th>\n",
       "      <th>Locality</th>\n",
       "      <th>Locality Verbose</th>\n",
       "      <th>Longitude</th>\n",
       "      <th>Latitude</th>\n",
       "      <th>Cuisines</th>\n",
       "      <th>...</th>\n",
       "      <th>Currency</th>\n",
       "      <th>Has Table booking</th>\n",
       "      <th>Has Online delivery</th>\n",
       "      <th>Is delivering now</th>\n",
       "      <th>Switch to order menu</th>\n",
       "      <th>Price range</th>\n",
       "      <th>Aggregate rating</th>\n",
       "      <th>Rating color</th>\n",
       "      <th>Rating text</th>\n",
       "      <th>Votes</th>\n",
       "    </tr>\n",
       "  </thead>\n",
       "  <tbody>\n",
       "    <tr>\n",
       "      <th>0</th>\n",
       "      <td>6317637</td>\n",
       "      <td>Le Petit Souffle</td>\n",
       "      <td>162</td>\n",
       "      <td>Makati City</td>\n",
       "      <td>Third Floor, Century City Mall, Kalayaan Avenu...</td>\n",
       "      <td>Century City Mall, Poblacion, Makati City</td>\n",
       "      <td>Century City Mall, Poblacion, Makati City, Mak...</td>\n",
       "      <td>121.027535</td>\n",
       "      <td>14.565443</td>\n",
       "      <td>French, Japanese, Desserts</td>\n",
       "      <td>...</td>\n",
       "      <td>Botswana Pula(P)</td>\n",
       "      <td>Yes</td>\n",
       "      <td>No</td>\n",
       "      <td>No</td>\n",
       "      <td>No</td>\n",
       "      <td>3</td>\n",
       "      <td>4.8</td>\n",
       "      <td>Dark Green</td>\n",
       "      <td>Excellent</td>\n",
       "      <td>314</td>\n",
       "    </tr>\n",
       "    <tr>\n",
       "      <th>1</th>\n",
       "      <td>6304287</td>\n",
       "      <td>Izakaya Kikufuji</td>\n",
       "      <td>162</td>\n",
       "      <td>Makati City</td>\n",
       "      <td>Little Tokyo, 2277 Chino Roces Avenue, Legaspi...</td>\n",
       "      <td>Little Tokyo, Legaspi Village, Makati City</td>\n",
       "      <td>Little Tokyo, Legaspi Village, Makati City, Ma...</td>\n",
       "      <td>121.014101</td>\n",
       "      <td>14.553708</td>\n",
       "      <td>Japanese</td>\n",
       "      <td>...</td>\n",
       "      <td>Botswana Pula(P)</td>\n",
       "      <td>Yes</td>\n",
       "      <td>No</td>\n",
       "      <td>No</td>\n",
       "      <td>No</td>\n",
       "      <td>3</td>\n",
       "      <td>4.5</td>\n",
       "      <td>Dark Green</td>\n",
       "      <td>Excellent</td>\n",
       "      <td>591</td>\n",
       "    </tr>\n",
       "    <tr>\n",
       "      <th>2</th>\n",
       "      <td>6300002</td>\n",
       "      <td>Heat - Edsa Shangri-La</td>\n",
       "      <td>162</td>\n",
       "      <td>Mandaluyong City</td>\n",
       "      <td>Edsa Shangri-La, 1 Garden Way, Ortigas, Mandal...</td>\n",
       "      <td>Edsa Shangri-La, Ortigas, Mandaluyong City</td>\n",
       "      <td>Edsa Shangri-La, Ortigas, Mandaluyong City, Ma...</td>\n",
       "      <td>121.056831</td>\n",
       "      <td>14.581404</td>\n",
       "      <td>Seafood, Asian, Filipino, Indian</td>\n",
       "      <td>...</td>\n",
       "      <td>Botswana Pula(P)</td>\n",
       "      <td>Yes</td>\n",
       "      <td>No</td>\n",
       "      <td>No</td>\n",
       "      <td>No</td>\n",
       "      <td>4</td>\n",
       "      <td>4.4</td>\n",
       "      <td>Green</td>\n",
       "      <td>Very Good</td>\n",
       "      <td>270</td>\n",
       "    </tr>\n",
       "    <tr>\n",
       "      <th>3</th>\n",
       "      <td>6318506</td>\n",
       "      <td>Ooma</td>\n",
       "      <td>162</td>\n",
       "      <td>Mandaluyong City</td>\n",
       "      <td>Third Floor, Mega Fashion Hall, SM Megamall, O...</td>\n",
       "      <td>SM Megamall, Ortigas, Mandaluyong City</td>\n",
       "      <td>SM Megamall, Ortigas, Mandaluyong City, Mandal...</td>\n",
       "      <td>121.056475</td>\n",
       "      <td>14.585318</td>\n",
       "      <td>Japanese, Sushi</td>\n",
       "      <td>...</td>\n",
       "      <td>Botswana Pula(P)</td>\n",
       "      <td>No</td>\n",
       "      <td>No</td>\n",
       "      <td>No</td>\n",
       "      <td>No</td>\n",
       "      <td>4</td>\n",
       "      <td>4.9</td>\n",
       "      <td>Dark Green</td>\n",
       "      <td>Excellent</td>\n",
       "      <td>365</td>\n",
       "    </tr>\n",
       "    <tr>\n",
       "      <th>4</th>\n",
       "      <td>6314302</td>\n",
       "      <td>Sambo Kojin</td>\n",
       "      <td>162</td>\n",
       "      <td>Mandaluyong City</td>\n",
       "      <td>Third Floor, Mega Atrium, SM Megamall, Ortigas...</td>\n",
       "      <td>SM Megamall, Ortigas, Mandaluyong City</td>\n",
       "      <td>SM Megamall, Ortigas, Mandaluyong City, Mandal...</td>\n",
       "      <td>121.057508</td>\n",
       "      <td>14.584450</td>\n",
       "      <td>Japanese, Korean</td>\n",
       "      <td>...</td>\n",
       "      <td>Botswana Pula(P)</td>\n",
       "      <td>Yes</td>\n",
       "      <td>No</td>\n",
       "      <td>No</td>\n",
       "      <td>No</td>\n",
       "      <td>4</td>\n",
       "      <td>4.8</td>\n",
       "      <td>Dark Green</td>\n",
       "      <td>Excellent</td>\n",
       "      <td>229</td>\n",
       "    </tr>\n",
       "  </tbody>\n",
       "</table>\n",
       "<p>5 rows × 21 columns</p>\n",
       "</div>"
      ],
      "text/plain": [
       "   Restaurant ID         Restaurant Name  Country Code              City  \\\n",
       "0        6317637        Le Petit Souffle           162       Makati City   \n",
       "1        6304287        Izakaya Kikufuji           162       Makati City   \n",
       "2        6300002  Heat - Edsa Shangri-La           162  Mandaluyong City   \n",
       "3        6318506                    Ooma           162  Mandaluyong City   \n",
       "4        6314302             Sambo Kojin           162  Mandaluyong City   \n",
       "\n",
       "                                             Address  \\\n",
       "0  Third Floor, Century City Mall, Kalayaan Avenu...   \n",
       "1  Little Tokyo, 2277 Chino Roces Avenue, Legaspi...   \n",
       "2  Edsa Shangri-La, 1 Garden Way, Ortigas, Mandal...   \n",
       "3  Third Floor, Mega Fashion Hall, SM Megamall, O...   \n",
       "4  Third Floor, Mega Atrium, SM Megamall, Ortigas...   \n",
       "\n",
       "                                     Locality  \\\n",
       "0   Century City Mall, Poblacion, Makati City   \n",
       "1  Little Tokyo, Legaspi Village, Makati City   \n",
       "2  Edsa Shangri-La, Ortigas, Mandaluyong City   \n",
       "3      SM Megamall, Ortigas, Mandaluyong City   \n",
       "4      SM Megamall, Ortigas, Mandaluyong City   \n",
       "\n",
       "                                    Locality Verbose   Longitude   Latitude  \\\n",
       "0  Century City Mall, Poblacion, Makati City, Mak...  121.027535  14.565443   \n",
       "1  Little Tokyo, Legaspi Village, Makati City, Ma...  121.014101  14.553708   \n",
       "2  Edsa Shangri-La, Ortigas, Mandaluyong City, Ma...  121.056831  14.581404   \n",
       "3  SM Megamall, Ortigas, Mandaluyong City, Mandal...  121.056475  14.585318   \n",
       "4  SM Megamall, Ortigas, Mandaluyong City, Mandal...  121.057508  14.584450   \n",
       "\n",
       "                           Cuisines  ...          Currency Has Table booking  \\\n",
       "0        French, Japanese, Desserts  ...  Botswana Pula(P)               Yes   \n",
       "1                          Japanese  ...  Botswana Pula(P)               Yes   \n",
       "2  Seafood, Asian, Filipino, Indian  ...  Botswana Pula(P)               Yes   \n",
       "3                   Japanese, Sushi  ...  Botswana Pula(P)                No   \n",
       "4                  Japanese, Korean  ...  Botswana Pula(P)               Yes   \n",
       "\n",
       "  Has Online delivery Is delivering now Switch to order menu Price range  \\\n",
       "0                  No                No                   No           3   \n",
       "1                  No                No                   No           3   \n",
       "2                  No                No                   No           4   \n",
       "3                  No                No                   No           4   \n",
       "4                  No                No                   No           4   \n",
       "\n",
       "   Aggregate rating  Rating color Rating text Votes  \n",
       "0               4.8    Dark Green   Excellent   314  \n",
       "1               4.5    Dark Green   Excellent   591  \n",
       "2               4.4         Green   Very Good   270  \n",
       "3               4.9    Dark Green   Excellent   365  \n",
       "4               4.8    Dark Green   Excellent   229  \n",
       "\n",
       "[5 rows x 21 columns]"
      ]
     },
     "execution_count": 2,
     "metadata": {},
     "output_type": "execute_result"
    }
   ],
   "source": [
    "# Loading the Dataset\n",
    "df = pd.read_csv(\"Dataset .csv\")\n",
    "df.head()"
   ]
  },
  {
   "cell_type": "markdown",
   "id": "8bd8d991",
   "metadata": {},
   "source": [
    "### Data Cleaning"
   ]
  },
  {
   "cell_type": "code",
   "execution_count": 3,
   "id": "38ce1218",
   "metadata": {},
   "outputs": [
    {
     "name": "stdout",
     "output_type": "stream",
     "text": [
      "<class 'pandas.core.frame.DataFrame'>\n",
      "RangeIndex: 9551 entries, 0 to 9550\n",
      "Data columns (total 21 columns):\n",
      " #   Column                Non-Null Count  Dtype  \n",
      "---  ------                --------------  -----  \n",
      " 0   Restaurant ID         9551 non-null   int64  \n",
      " 1   Restaurant Name       9551 non-null   object \n",
      " 2   Country Code          9551 non-null   int64  \n",
      " 3   City                  9551 non-null   object \n",
      " 4   Address               9551 non-null   object \n",
      " 5   Locality              9551 non-null   object \n",
      " 6   Locality Verbose      9551 non-null   object \n",
      " 7   Longitude             9551 non-null   float64\n",
      " 8   Latitude              9551 non-null   float64\n",
      " 9   Cuisines              9542 non-null   object \n",
      " 10  Average Cost for two  9551 non-null   int64  \n",
      " 11  Currency              9551 non-null   object \n",
      " 12  Has Table booking     9551 non-null   object \n",
      " 13  Has Online delivery   9551 non-null   object \n",
      " 14  Is delivering now     9551 non-null   object \n",
      " 15  Switch to order menu  9551 non-null   object \n",
      " 16  Price range           9551 non-null   int64  \n",
      " 17  Aggregate rating      9551 non-null   float64\n",
      " 18  Rating color          9551 non-null   object \n",
      " 19  Rating text           9551 non-null   object \n",
      " 20  Votes                 9551 non-null   int64  \n",
      "dtypes: float64(3), int64(5), object(13)\n",
      "memory usage: 1.5+ MB\n"
     ]
    }
   ],
   "source": [
    "# Checking the datatype\n",
    "df.info()"
   ]
  },
  {
   "cell_type": "markdown",
   "id": "9a06c54d",
   "metadata": {},
   "source": [
    "### Observations\n",
    "1. There are three types of data types : float, int , object\n",
    "2. We can drop Resturant ID column \n",
    "3. Total 9551 rows are present in all columns except Cuisines having some missing values"
   ]
  },
  {
   "cell_type": "code",
   "execution_count": 4,
   "id": "c4331a84",
   "metadata": {},
   "outputs": [
    {
     "data": {
      "text/plain": [
       "(9551, 21)"
      ]
     },
     "execution_count": 4,
     "metadata": {},
     "output_type": "execute_result"
    }
   ],
   "source": [
    "df.shape"
   ]
  },
  {
   "cell_type": "markdown",
   "id": "90c9e3fb",
   "metadata": {},
   "source": [
    "### Observation \n",
    "1. total 9551 observations and 21 features are present in the datasets"
   ]
  },
  {
   "cell_type": "code",
   "execution_count": 5,
   "id": "7f57c542",
   "metadata": {},
   "outputs": [
    {
     "data": {
      "text/plain": [
       "Restaurant ID           0\n",
       "Restaurant Name         0\n",
       "Country Code            0\n",
       "City                    0\n",
       "Address                 0\n",
       "Locality                0\n",
       "Locality Verbose        0\n",
       "Longitude               0\n",
       "Latitude                0\n",
       "Cuisines                9\n",
       "Average Cost for two    0\n",
       "Currency                0\n",
       "Has Table booking       0\n",
       "Has Online delivery     0\n",
       "Is delivering now       0\n",
       "Switch to order menu    0\n",
       "Price range             0\n",
       "Aggregate rating        0\n",
       "Rating color            0\n",
       "Rating text             0\n",
       "Votes                   0\n",
       "dtype: int64"
      ]
     },
     "execution_count": 5,
     "metadata": {},
     "output_type": "execute_result"
    }
   ],
   "source": [
    "# Checking the number of missing values in each columns\n",
    "df.isnull().sum()"
   ]
  },
  {
   "cell_type": "markdown",
   "id": "767d077c",
   "metadata": {},
   "source": [
    "### Observation \n",
    "1. The cuisines column has 9 number of missing values "
   ]
  },
  {
   "cell_type": "code",
   "execution_count": 8,
   "id": "a8ced957",
   "metadata": {},
   "outputs": [
    {
     "data": {
      "image/png": "[encoded data removed]",
      "text/plain": [
       "<Figure size 864x504 with 3 Axes>"
      ]
     },
     "metadata": {},
     "output_type": "display_data"
    }
   ],
   "source": [
    "# Missing values using missing bar visualization\n",
    "import missingno as ms\n",
    "fig, ax = plt.subplots(figsize=(12,7))\n",
    "ms.bar(df, fontsize=20, color= 'darkblue', ax=ax)\n",
    "fig.show()"
   ]
  },
  {
   "cell_type": "code",
   "execution_count": 9,
   "id": "d399f36a",
   "metadata": {},
   "outputs": [
    {
     "data": {
      "text/plain": [
       "(9542, 21)"
      ]
     },
     "execution_count": 9,
     "metadata": {},
     "output_type": "execute_result"
    }
   ],
   "source": [
    "# We can drop null values using drop \n",
    "#and save the data in new varaible\n",
    "df1 = df.dropna()\n",
    "df1.shape"
   ]
  },
  {
   "cell_type": "code",
   "execution_count": 10,
   "id": "682315a9",
   "metadata": {},
   "outputs": [
    {
     "data": {
      "text/plain": [
       "Restaurant ID           0\n",
       "Restaurant Name         0\n",
       "Country Code            0\n",
       "City                    0\n",
       "Address                 0\n",
       "Locality                0\n",
       "Locality Verbose        0\n",
       "Longitude               0\n",
       "Latitude                0\n",
       "Cuisines                0\n",
       "Average Cost for two    0\n",
       "Currency                0\n",
       "Has Table booking       0\n",
       "Has Online delivery     0\n",
       "Is delivering now       0\n",
       "Switch to order menu    0\n",
       "Price range             0\n",
       "Aggregate rating        0\n",
       "Rating color            0\n",
       "Rating text             0\n",
       "Votes                   0\n",
       "dtype: int64"
      ]
     },
     "execution_count": 10,
     "metadata": {},
     "output_type": "execute_result"
    }
   ],
   "source": [
    "# Cross check for null values\n",
    "df1.isnull().sum()"
   ]
  },
  {
   "cell_type": "markdown",
   "id": "6b985246",
   "metadata": {},
   "source": [
    "## Level 1 ------------------------------------------------------- "
   ]
  },
  {
   "cell_type": "markdown",
   "id": "791d7a39",
   "metadata": {},
   "source": [
    "#### Task 1- Top Cuisines ---------------------------------------------------------------------"
   ]
  },
  {
   "cell_type": "markdown",
   "id": "5f7338fc",
   "metadata": {},
   "source": [
    "### 1. Determine the top three most common cuisines in the dataset.\n"
   ]
  },
  {
   "cell_type": "code",
   "execution_count": 11,
   "id": "97810950",
   "metadata": {},
   "outputs": [
    {
     "name": "stdout",
     "output_type": "stream",
     "text": [
      "North Indian             936\n",
      "North Indian, Chinese    511\n",
      "Chinese                  354\n",
      "Name: Cuisines, dtype: int64\n"
     ]
    }
   ],
   "source": [
    "\n",
    "Top_Three_cuisine = df1['Cuisines'].value_counts()\n",
    "print(Top_Three_cuisine.head(3))"
   ]
  },
  {
   "cell_type": "code",
   "execution_count": null,
   "id": "2575a883",
   "metadata": {},
   "outputs": [],
   "source": []
  },
  {
   "cell_type": "markdown",
   "id": "0a275d72",
   "metadata": {},
   "source": [
    "### Observation\n",
    "1. Top Rank having 936 Resturant , That has North Indian cuisines \n",
    "2. Second Top Rank having 511 Resturant , That has North Indian, Chinese cuisines \n",
    "3. Third Top Rank having 354 Resturant , That has Chinese cuisines "
   ]
  },
  {
   "cell_type": "markdown",
   "id": "780854e3",
   "metadata": {},
   "source": [
    "### 2. Calculate the percentage of restaurants that serve each of the top cuisines.\n"
   ]
  },
  {
   "cell_type": "code",
   "execution_count": 13,
   "id": "b219d91d",
   "metadata": {},
   "outputs": [
    {
     "name": "stdout",
     "output_type": "stream",
     "text": [
      "Percentage of restaurants that serve North Indian cuisines : 9.81 %\n"
     ]
    }
   ],
   "source": [
    "\n",
    "# Let counts the total number of Restaurant\n",
    "total_resto_count = df1['Restaurant Name'].count()\n",
    "# total_resto_count\n",
    "\n",
    "# Let count the total number of North Indian cuisines\n",
    "restro_top_cuisines_North_Indian = df1[df1['Cuisines']== 'North Indian']\n",
    "A1=restro_top_cuisines_North_Indian['Restaurant Name'].count()\n",
    "# A1\n",
    "\n",
    "# percentage of restaurants that serve North Indian cuisines\n",
    "top_1_cuisines = A1/total_resto_count*100\n",
    "print(f'Percentage of restaurants that serve North Indian cuisines : {round(top_1_cuisines,2)} %')"
   ]
  },
  {
   "cell_type": "code",
   "execution_count": 14,
   "id": "626e4b09",
   "metadata": {},
   "outputs": [
    {
     "name": "stdout",
     "output_type": "stream",
     "text": [
      "Percentage of restaurants that serve North Indian, Chinese cuisines : 5.36 %\n"
     ]
    }
   ],
   "source": [
    "# Let count total the number of North Indian, chinese cuisines\n",
    "restro_top_cuisines_North_Indian_chinese = df1[df1['Cuisines']== 'North Indian, Chinese']\n",
    "A2=restro_top_cuisines_North_Indian_chinese['Restaurant Name'].count()\n",
    "# A2\n",
    "\n",
    "# percentage of restaurants that serve top 1 cuisines\n",
    "top_2_cuisines = A2/total_resto_count*100\n",
    "print(f'Percentage of restaurants that serve North Indian, Chinese cuisines : {round(top_2_cuisines,2)} %')"
   ]
  },
  {
   "cell_type": "code",
   "execution_count": 15,
   "id": "2fa5e69c",
   "metadata": {},
   "outputs": [
    {
     "name": "stdout",
     "output_type": "stream",
     "text": [
      "Percentage of restaurants that serve Chinese cuisines : 3.71 %\n"
     ]
    }
   ],
   "source": [
    "# Let count total the number of Chinese cuisines\n",
    "\n",
    "restro_top_cuisines_chinese = df1[df1['Cuisines']== 'Chinese']\n",
    "A3=restro_top_cuisines_chinese['Restaurant Name'].count()\n",
    "# A3\n",
    "\n",
    "# percentage of restaurants that serve top 1 cuisines\n",
    "top_3_cuisines = A3/total_resto_count*100\n",
    "print(f'Percentage of restaurants that serve Chinese cuisines : {round(top_3_cuisines,2)} %')"
   ]
  },
  {
   "cell_type": "markdown",
   "id": "3f30b8cb",
   "metadata": {},
   "source": [
    "### Summary Task 1\n",
    "Top Three Cuisines\n",
    "\n",
    "1. North Indian             936\n",
    "2. North Indian, Chinese    511\n",
    "3. Chinese                  354\n",
    "\n",
    "Percentage of restaurants that serve each of the top cuisines\n",
    "1. Percentage of restaurants that serve North Indian cuisines : 9.81 %\n",
    "2. Percentage of restaurants that serve North Indian, Chinese cuisines : 5.36 %\n",
    "3. Percentage of restaurants that serve Chinese cuisines : 3.71 %\n"
   ]
  },
  {
   "cell_type": "markdown",
   "id": "faa9b344",
   "metadata": {},
   "source": [
    "#### Task 2 -  City Analysis----------------------------------------------------------------------"
   ]
  },
  {
   "cell_type": "markdown",
   "id": "d783296a",
   "metadata": {},
   "source": [
    "### 1. Identify the city with the highest number of restaurants in the dataset.\n"
   ]
  },
  {
   "cell_type": "code",
   "execution_count": 14,
   "id": "0c446fc7",
   "metadata": {},
   "outputs": [
    {
     "name": "stdout",
     "output_type": "stream",
     "text": [
      "New Delhi    5473\n",
      "Name: City, dtype: int64\n"
     ]
    }
   ],
   "source": [
    "\n",
    "higest_restro_city = df1['City'].value_counts()\n",
    "print(higest_restro_city.head(1))"
   ]
  },
  {
   "cell_type": "markdown",
   "id": "3ff7086a",
   "metadata": {},
   "source": [
    "### Observtion\n",
    "1. New delhi city has higest 5473 number of restaurants."
   ]
  },
  {
   "cell_type": "markdown",
   "id": "88587c95",
   "metadata": {},
   "source": [
    "### 2. Calculate the average rating for restaurants in each city.\n"
   ]
  },
  {
   "cell_type": "code",
   "execution_count": 15,
   "id": "e39d4e10",
   "metadata": {},
   "outputs": [
    {
     "name": "stdout",
     "output_type": "stream",
     "text": [
      "City\n",
      "Abu Dhabi          4.300000\n",
      "Agra               3.965000\n",
      "Ahmedabad          4.161905\n",
      "Albany             3.552941\n",
      "Allahabad          3.395000\n",
      "                     ...   \n",
      "Weirton            3.900000\n",
      "Wellington City    4.250000\n",
      "Winchester Bay     3.200000\n",
      "Yorkton            3.300000\n",
      "��stanbul          4.292857\n",
      "Name: Aggregate rating, Length: 140, dtype: float64\n"
     ]
    }
   ],
   "source": [
    "\n",
    "avg_rating_each_city = df1.groupby('City')\n",
    "print(avg_rating_each_city['Aggregate rating'].mean())"
   ]
  },
  {
   "cell_type": "markdown",
   "id": "55232f38",
   "metadata": {},
   "source": [
    "### 3. Determine the city with the highest average rating."
   ]
  },
  {
   "cell_type": "code",
   "execution_count": 16,
   "id": "acd07df3",
   "metadata": {},
   "outputs": [
    {
     "name": "stdout",
     "output_type": "stream",
     "text": [
      "City\n",
      "Inner City    4.9\n",
      "Name: Aggregate rating, dtype: float64\n"
     ]
    }
   ],
   "source": [
    "\n",
    "x = avg_rating_each_city['Aggregate rating'].mean().sort_values(ascending=False)\n",
    "print(x.head(1))\n",
    "# city_with_highest_ave_rating = "
   ]
  },
  {
   "cell_type": "markdown",
   "id": "479d8f8d",
   "metadata": {},
   "source": [
    "### Summary Task 2\n",
    "1. New delhi city has higest 5473 number of restaurants.\n",
    "2. The Inner City is Higest avg rating  4.9.\n",
    "3. The Faridabad city is lowest avg rating 1.87."
   ]
  },
  {
   "cell_type": "code",
   "execution_count": null,
   "id": "ebbe4505",
   "metadata": {},
   "outputs": [],
   "source": []
  },
  {
   "cell_type": "markdown",
   "id": "f2c8e375",
   "metadata": {},
   "source": [
    "#### Task 3 -  Price Range Distribution -------------------------------------------------------"
   ]
  },
  {
   "cell_type": "markdown",
   "id": "049d837f",
   "metadata": {},
   "source": [
    "###  1.Create a histogram or bar chart to visualize the distribution of price ranges among the restaurants.\n"
   ]
  },
  {
   "cell_type": "code",
   "execution_count": 17,
   "id": "bd1849f2",
   "metadata": {
    "scrolled": false
   },
   "outputs": [
    {
     "data": {
      "text/plain": [
       "<AxesSubplot:xlabel='Price range', ylabel='count'>"
      ]
     },
     "execution_count": 17,
     "metadata": {},
     "output_type": "execute_result"
    },
    {
     "data": {
      "image/png": "[encoded data removed]",
      "text/plain": [
       "<Figure size 432x288 with 1 Axes>"
      ]
     },
     "metadata": {},
     "output_type": "display_data"
    }
   ],
   "source": [
    "\n",
    "rects= sns.countplot(x=\"Price range\", color=\"g\", data=df1, palette='Set1')\n",
    "rects"
   ]
  },
  {
   "cell_type": "code",
   "execution_count": 18,
   "id": "0c600354",
   "metadata": {},
   "outputs": [
    {
     "name": "stdout",
     "output_type": "stream",
     "text": [
      "Number of restaurants in price range category 1 : 4438 \n",
      "Number of restaurants in price range category 2 : 3113 \n",
      "Number of restaurants in price range category 3 : 1405 \n",
      "Number of restaurants in price range category 4 : 586 \n"
     ]
    }
   ],
   "source": [
    "group_price_range_data = df1.groupby('Price range')\n",
    "price_range_category_count = group_price_range_data['Restaurant Name'].count()\n",
    "# price_range_category\n",
    "\n",
    "for i in range (len(price_range_category_count)):\n",
    "    p = price_range_category_count[i+1]\n",
    "    print (f'Number of restaurants in price range category {i+1} : {round(p,2)} ')"
   ]
  },
  {
   "cell_type": "markdown",
   "id": "ceac9e64",
   "metadata": {},
   "source": [
    "### Observation \n",
    "1. The price range 1 has highest count of around\n",
    "2. The price range 4 has lowest count of around \n",
    "3. The price range 2 and 3 has in between 1 and 4"
   ]
  },
  {
   "cell_type": "markdown",
   "id": "b79dc2d2",
   "metadata": {},
   "source": [
    "### 2. Calculate the percentage of restaurants in each price range category."
   ]
  },
  {
   "cell_type": "code",
   "execution_count": 19,
   "id": "a2b7280d",
   "metadata": {},
   "outputs": [
    {
     "name": "stdout",
     "output_type": "stream",
     "text": [
      "Percentage of restaurants in price range category 1 : 46.51 %\n",
      "Percentage of restaurants in price range category 2 : 32.62 %\n",
      "Percentage of restaurants in price range category 3 : 14.72 %\n",
      "Percentage of restaurants in price range category 4 : 6.14 %\n"
     ]
    }
   ],
   "source": [
    "percentage_resto_price_range = df1.groupby('Price range')\n",
    "price_range_category = percentage_resto_price_range['Restaurant Name'].count()\n",
    "# price_range_category\n",
    "\n",
    "for i in range (len(price_range_category)):\n",
    "    p = price_range_category[i+1]/total_resto_count*100\n",
    "    print (f'Percentage of restaurants in price range category {i+1} : {round(p,2)} %')"
   ]
  },
  {
   "cell_type": "markdown",
   "id": "42c9cf0d",
   "metadata": {},
   "source": [
    "### Summary Task 3\n",
    "1. The price range 1 has highest count of around 46.51 %\n",
    "2. The price range 4 has lowest count of around 6.14 %"
   ]
  },
  {
   "cell_type": "markdown",
   "id": "feecc372",
   "metadata": {},
   "source": [
    "#### Task 4 - Online Delivery --------------------------------------------------------------------"
   ]
  },
  {
   "cell_type": "markdown",
   "id": "f6f6d443",
   "metadata": {},
   "source": [
    "###  1. Determine the percentage of restaurants that offer online delivery."
   ]
  },
  {
   "cell_type": "code",
   "execution_count": 20,
   "id": "54515c1b",
   "metadata": {},
   "outputs": [
    {
     "name": "stdout",
     "output_type": "stream",
     "text": [
      "Counter({'No': 7091, 'Yes': 2451})\n"
     ]
    }
   ],
   "source": [
    "\n",
    "restro_offer_online_delivery = Counter(df1['Has Online delivery'])\n",
    "print(restro_offer_online_delivery)"
   ]
  },
  {
   "cell_type": "code",
   "execution_count": 21,
   "id": "540ff50b",
   "metadata": {},
   "outputs": [
    {
     "name": "stdout",
     "output_type": "stream",
     "text": [
      "Percentage of restaurants that offer online delivery : 25.69 %\n"
     ]
    }
   ],
   "source": [
    "# Let calculate the restaurants that offer online delivery \n",
    "\n",
    "z = df1[df1['Has Online delivery']=='Yes']\n",
    "restro_offer_online_delivery_yes= z['Has Online delivery'].count()\n",
    "# restro_offer_online_delivery_yes\n",
    "\n",
    "total_restro = df1['Restaurant Name'].count()\n",
    "per_restro_offer_online_delivery = restro_offer_online_delivery_yes/total_restro *100\n",
    "print(f'Percentage of restaurants that offer online delivery : {round(per_restro_offer_online_delivery,2)} %')"
   ]
  },
  {
   "cell_type": "markdown",
   "id": "6bffb945",
   "metadata": {},
   "source": [
    "### 2. Compare the average ratings of restaurants with and without online delivery.\n"
   ]
  },
  {
   "cell_type": "code",
   "execution_count": 22,
   "id": "da8fb93c",
   "metadata": {},
   "outputs": [
    {
     "name": "stdout",
     "output_type": "stream",
     "text": [
      "Avarage rating with online delivery : 3.25\n",
      "Avarage rating without online delivery : 2.46\n",
      "Compriosion of avarage rating with and without Online delivey comparesion : 1.32\n"
     ]
    }
   ],
   "source": [
    "# Let calculate the avg rating of restaurants with online delivery\n",
    "\n",
    "avg_rating_with_online_delivery= z['Aggregate rating'].mean()\n",
    "print(f'Avarage rating with online delivery : {round(avg_rating_with_online_delivery,2)}')\n",
    "\n",
    "# Let calculate the avg rating of restaurants without online delivery\n",
    "\n",
    "t = df1[df1['Has Online delivery']=='No']\n",
    "\n",
    "avg_rating_without_online_delivery=t['Aggregate rating'].mean()\n",
    "print(f'Avarage rating without online delivery : {round(avg_rating_without_online_delivery,2)}')\n",
    "\n",
    "\n",
    "comparesion = avg_rating_with_online_delivery/avg_rating_without_online_delivery\n",
    "print(f'Compriosion of avarage rating with and without Online delivey comparesion : {round(comparesion,2)}')"
   ]
  },
  {
   "cell_type": "markdown",
   "id": "e457d0d5",
   "metadata": {},
   "source": [
    "### Summary Task 4\n",
    "1. The Percentage of restaurants that offer online delivery is : 25.69 %\n",
    "2. Avarage rating with online delivery : 3.25\n",
    "3. Avarage rating without online delivery : 2.46\n",
    "4. Compriosion of avarage rating with and without Online delivey comparesion : 1.32"
   ]
  },
  {
   "cell_type": "markdown",
   "id": "f3a29add",
   "metadata": {},
   "source": [
    "## Level 2 ------------------------------------------------------- "
   ]
  },
  {
   "cell_type": "markdown",
   "id": "f4383c96",
   "metadata": {},
   "source": [
    "#### Task 1 : Restaurant Ratings ------------------------------------------------------------"
   ]
  },
  {
   "cell_type": "markdown",
   "id": "3b4804a0",
   "metadata": {},
   "source": [
    "### 1. Analyze the distribution of aggregate ratings and determine the most common rating range."
   ]
  },
  {
   "cell_type": "code",
   "execution_count": 23,
   "id": "113836f3",
   "metadata": {},
   "outputs": [
    {
     "data": {
      "text/plain": [
       "0    0.0\n",
       "dtype: float64"
      ]
     },
     "execution_count": 23,
     "metadata": {},
     "output_type": "execute_result"
    }
   ],
   "source": [
    "df1['Aggregate rating'].mode()"
   ]
  },
  {
   "cell_type": "code",
   "execution_count": 24,
   "id": "08583c38",
   "metadata": {},
   "outputs": [
    {
     "data": {
      "text/plain": [
       "(array([2148.,    0.,    0.,    0.,    0.,    0.,    0.,    3.,   49.,\n",
       "         134.,  301.,  946.,  987., 1500.,  938., 1158.,  540.,  538.,\n",
       "         173.,  127.]),\n",
       " array([0.   , 0.245, 0.49 , 0.735, 0.98 , 1.225, 1.47 , 1.715, 1.96 ,\n",
       "        2.205, 2.45 , 2.695, 2.94 , 3.185, 3.43 , 3.675, 3.92 , 4.165,\n",
       "        4.41 , 4.655, 4.9  ]),\n",
       " <BarContainer object of 20 artists>)"
      ]
     },
     "execution_count": 24,
     "metadata": {},
     "output_type": "execute_result"
    },
    {
     "data": {
      "image/png": "[encoded data removed]",
      "text/plain": [
       "<Figure size 576x288 with 1 Axes>"
      ]
     },
     "metadata": {},
     "output_type": "display_data"
    }
   ],
   "source": [
    "plt.figure(figsize = (8,4))\n",
    "plt.hist(df1['Aggregate rating'], bins=20, edgecolor='r', alpha=0.7)\n"
   ]
  },
  {
   "cell_type": "markdown",
   "id": "0da95fd2",
   "metadata": {},
   "source": [
    "### Observation\n",
    "1. The distribution of Aggregate rating lies in the range from 2 - 5.\n",
    "2. The most common rating range is 0."
   ]
  },
  {
   "cell_type": "markdown",
   "id": "fd189eb2",
   "metadata": {},
   "source": [
    "### 2. Calculate the average number of votes received by restaurants."
   ]
  },
  {
   "cell_type": "code",
   "execution_count": 25,
   "id": "019d5dc7",
   "metadata": {},
   "outputs": [
    {
     "name": "stdout",
     "output_type": "stream",
     "text": [
      "Average number of Votes received by restaurants : 156.77\n"
     ]
    }
   ],
   "source": [
    "print(f\"Average number of Votes received by restaurants : {round(df1['Votes'].mean(),2)}\")"
   ]
  },
  {
   "cell_type": "code",
   "execution_count": 26,
   "id": "af5814df",
   "metadata": {},
   "outputs": [
    {
     "data": {
      "text/plain": [
       "Restaurant Name\n",
       "Toit                 10934.0\n",
       "Hauz Khas Social      7931.0\n",
       "Peter Cat             7574.0\n",
       "Big Brewsky           5705.0\n",
       "The Black Pearl       5385.0\n",
       "                      ...   \n",
       "Arunachal Bhawan         0.0\n",
       "Front Food Corner        0.0\n",
       "Alam Biryani             0.0\n",
       "Right for Night          0.0\n",
       "Food Hut                 0.0\n",
       "Name: Votes, Length: 7437, dtype: float64"
      ]
     },
     "execution_count": 26,
     "metadata": {},
     "output_type": "execute_result"
    }
   ],
   "source": [
    "avg_num_restro= df1.groupby('Restaurant Name')\n",
    "avg_num_restro['Votes'].mean().sort_values(ascending=False)"
   ]
  },
  {
   "cell_type": "code",
   "execution_count": 1,
   "id": "ba4e7c71",
   "metadata": {},
   "outputs": [],
   "source": [
    "# count_the_number_of_avg_votes_restro = Counter(avg_num_restro['Votes'].mean().sort_values(ascending=False))\n",
    "# count_the_number_of_avg_votes_restro"
   ]
  },
  {
   "cell_type": "markdown",
   "id": "eac8fdfd",
   "metadata": {},
   "source": [
    "### Observation\n",
    "1. The average number of votes received by restaurants : 156.77.\n",
    "2. The average number of highest votes received by the restaurants is Toit having approx 10934 Votes.\n",
    "3. The some of the restaurant having No rating, like Arunachal Bhawan, Front Food Corner, Alam Biryani, Right for Night, Food Hut."
   ]
  },
  {
   "cell_type": "markdown",
   "id": "f1c04bf9",
   "metadata": {},
   "source": [
    "#### Task 2 : Cuisine Combination------------------------------------------------------"
   ]
  },
  {
   "cell_type": "markdown",
   "id": "a3b9712a",
   "metadata": {},
   "source": [
    "### 1. Identify the most common combinations of cuisines in the dataset."
   ]
  },
  {
   "cell_type": "code",
   "execution_count": 28,
   "id": "cfc63d76",
   "metadata": {},
   "outputs": [
    {
     "data": {
      "text/plain": [
       "[('North Indian', 936),\n",
       " ('North Indian, Chinese', 511),\n",
       " ('Chinese', 354),\n",
       " ('Fast Food', 354),\n",
       " ('North Indian, Mughlai', 334)]"
      ]
     },
     "execution_count": 28,
     "metadata": {},
     "output_type": "execute_result"
    }
   ],
   "source": [
    "\n",
    "Counter(df1['Cuisines']).most_common(5)"
   ]
  },
  {
   "cell_type": "markdown",
   "id": "4e12066e",
   "metadata": {},
   "source": [
    "### Observation:\n",
    "1. The most common combinations of cuisines are 'North Indian, Chinese' having 511 count according to the datasets."
   ]
  },
  {
   "cell_type": "markdown",
   "id": "2e678c2e",
   "metadata": {},
   "source": [
    "### 2. Determine if certain cuisine combinations tend to have higher ratings."
   ]
  },
  {
   "cell_type": "code",
   "execution_count": 29,
   "id": "fe82e2f1",
   "metadata": {},
   "outputs": [
    {
     "name": "stdout",
     "output_type": "stream",
     "text": [
      "Cuisines                         Rating                        \n",
      "--------------------------------------------------\n",
      "Italian, Deli                      4.9       \n",
      "Hawaiian, Seafood                  4.9       \n",
      "American, Sandwich, Tea            4.9       \n",
      "Continental, Indian                4.9       \n",
      "European, Asian, Indian            4.9       \n",
      "European, Contemporary             4.9       \n",
      "European, German                   4.9       \n",
      "BBQ, Breakfast, Southern           4.9       \n",
      "American, Coffee and Tea           4.9       \n",
      "Sunda, Indonesian                  4.9       \n",
      "American, Burger, Grill            4.9       \n",
      "Mughlai, Lucknowi                  4.9       \n",
      "Mexican, American, Healthy Food    4.9       \n",
      "American, Caribbean, Seafood       4.9       \n",
      "Burger, Bar Food, Steak            4.9       \n",
      "Italian, Bakery, Continental       4.9       \n",
      "World Cuisine                      4.9       \n",
      "American, BBQ, Sandwich            4.9       \n",
      "\n",
      "Total Number of higest combinations : 18\n"
     ]
    }
   ],
   "source": [
    "\n",
    "cusinie_comb = df1.groupby('Cuisines')['Aggregate rating'].mean().sort_values(ascending=False)\n",
    "print(f'{\"Cuisines\":<32} {\"Rating\":<30}')\n",
    "print(\"-\" * 50)\n",
    "count=0\n",
    "for cuisine, rating in cusinie_comb.items():\n",
    "    if rating == cusinie_comb.max():\n",
    "        count+=1\n",
    "        print(f'{cuisine:<35}{rating:<10}')\n",
    "print()\n",
    "print (f'Total Number of higest combinations : {count}')"
   ]
  },
  {
   "cell_type": "markdown",
   "id": "7b99841a",
   "metadata": {},
   "source": [
    "### Observation:\n",
    "1. The higest rating is 4.9 .\n",
    "2. The total number of cuisines having higest rating are 18.\n",
    "3. Out of 18 , 17 are consider as a cuisines combination category."
   ]
  },
  {
   "cell_type": "markdown",
   "id": "bf57776f",
   "metadata": {},
   "source": [
    "#### Task 3 : Geographic Analysis-------------------------------------------------------"
   ]
  },
  {
   "cell_type": "code",
   "execution_count": 30,
   "id": "4f65ee1e",
   "metadata": {},
   "outputs": [
    {
     "name": "stdout",
     "output_type": "stream",
     "text": [
      "Requirement already satisfied: folium in c:\\programdata\\anaconda3\\lib\\site-packages (0.15.1)\n",
      "Requirement already satisfied: numpy in c:\\programdata\\anaconda3\\lib\\site-packages (from folium) (1.20.3)\n",
      "Requirement already satisfied: jinja2>=2.9 in c:\\programdata\\anaconda3\\lib\\site-packages (from folium) (2.11.3)\n",
      "Requirement already satisfied: xyzservices in c:\\programdata\\anaconda3\\lib\\site-packages (from folium) (2023.10.1)\n",
      "Requirement already satisfied: branca>=0.6.0 in c:\\programdata\\anaconda3\\lib\\site-packages (from folium) (0.7.0)\n",
      "Requirement already satisfied: requests in c:\\programdata\\anaconda3\\lib\\site-packages (from folium) (2.26.0)\n",
      "Requirement already satisfied: MarkupSafe>=0.23 in c:\\programdata\\anaconda3\\lib\\site-packages (from jinja2>=2.9->folium) (1.1.1)\n",
      "Requirement already satisfied: urllib3<1.27,>=1.21.1 in c:\\programdata\\anaconda3\\lib\\site-packages (from requests->folium) (1.26.7)\n",
      "Requirement already satisfied: certifi>=2017.4.17 in c:\\programdata\\anaconda3\\lib\\site-packages (from requests->folium) (2021.10.8)\n",
      "Requirement already satisfied: idna<4,>=2.5 in c:\\programdata\\anaconda3\\lib\\site-packages (from requests->folium) (3.2)\n",
      "Requirement already satisfied: charset-normalizer~=2.0.0 in c:\\programdata\\anaconda3\\lib\\site-packages (from requests->folium) (2.0.4)\n"
     ]
    },
    {
     "name": "stderr",
     "output_type": "stream",
     "text": [
      "WARNING: Ignoring invalid distribution -umpy (c:\\programdata\\anaconda3\\lib\\site-packages)\n",
      "WARNING: Ignoring invalid distribution -umpy (c:\\programdata\\anaconda3\\lib\\site-packages)\n",
      "WARNING: Ignoring invalid distribution -umpy (c:\\programdata\\anaconda3\\lib\\site-packages)\n",
      "WARNING: Ignoring invalid distribution -umpy (c:\\programdata\\anaconda3\\lib\\site-packages)\n",
      "WARNING: Ignoring invalid distribution -umpy (c:\\programdata\\anaconda3\\lib\\site-packages)\n",
      "WARNING: Ignoring invalid distribution -umpy (c:\\programdata\\anaconda3\\lib\\site-packages)\n"
     ]
    }
   ],
   "source": [
    "!pip install folium"
   ]
  },
  {
   "cell_type": "markdown",
   "id": "14f86380",
   "metadata": {},
   "source": [
    "### 1. Plot the locations of restaurants on a map using longitude and latitude coordinates."
   ]
  },
  {
   "cell_type": "code",
   "execution_count": 31,
   "id": "688688b3",
   "metadata": {},
   "outputs": [],
   "source": [
    "\n",
    "import folium\n",
    "\n",
    "# Create a folium map centered at an arbitrary location\n",
    "map_center = [df1['Latitude'].loc[0], df1['Longitude'].iloc[0]]\n",
    "my_map = folium.Map(location=map_center, zoom_start=12)\n",
    "\n",
    "# Add markers for each restaurant\n",
    "for _, restaurant in df1.iterrows():\n",
    "    folium.Marker( location=[restaurant['Latitude'], restaurant['Longitude']],\n",
    "                  popup=restaurant['Restaurant Name'] ).add_to(my_map)\n",
    "\n",
    "# Save the map to an HTML file or display it\n",
    "my_map.save(\"restaurant_map.html\")\n",
    "# my_map.show()  # Uncomment this line to display the map in a Jupyter Notebook\n",
    "\n"
   ]
  },
  {
   "cell_type": "markdown",
   "id": "5bed7532",
   "metadata": {},
   "source": [
    "### Observation\n",
    "1. Geographic represntation of the restaurant are shown in \"restaurant_map.html\".\n",
    "2. The marker for each restaurant on the map at its specified by latitude and longitude."
   ]
  },
  {
   "cell_type": "markdown",
   "id": "2da05cc4",
   "metadata": {},
   "source": [
    "### 2. Identify any patterns or clusters of restaurants in specific areas."
   ]
  },
  {
   "cell_type": "code",
   "execution_count": 32,
   "id": "f9c17011",
   "metadata": {},
   "outputs": [
    {
     "data": {
      "image/png": "[encoded data removed]",
      "text/plain": [
       "<Figure size 432x288 with 1 Axes>"
      ]
     },
     "metadata": {},
     "output_type": "display_data"
    }
   ],
   "source": [
    "\n",
    "from sklearn.preprocessing import StandardScaler\n",
    "from sklearn.cluster import KMeans\n",
    "\n",
    "features = df1[['Longitude','Latitude', 'Price range','Aggregate rating', 'Votes']]\n",
    "\n",
    "scaler = StandardScaler()\n",
    "features_scaled = scaler.fit_transform(features)\n",
    "\n",
    "#apply k-means Clustering\n",
    "kmeans = KMeans (n_clusters = 3, random_state = 42)\n",
    "df1['Cluster']= kmeans.fit_predict(features_scaled)\n",
    "\n",
    "#Use seaborn to visualization\n",
    "sns.scatterplot(x='Longitude', y='Latitude', hue='Cluster', data=df1, palette='viridis')\n",
    "plt.title('Restaurant Clusters')\n",
    "plt.show()"
   ]
  },
  {
   "cell_type": "markdown",
   "id": "7ad19ccd",
   "metadata": {},
   "source": [
    "### Observation\n",
    "1. The scatter plot with different colors represents spatial clusters of restaurants. The certain areas have a higher concentration of restaurants.\n",
    "2. It identifying that clusters with a lower density of restaurants might suggest areas where opening a new restaurant could be a strategic move."
   ]
  },
  {
   "cell_type": "markdown",
   "id": "9ea8a837",
   "metadata": {},
   "source": [
    "#### Task 4 : Restaurant Chains---------------------------------------------------------"
   ]
  },
  {
   "cell_type": "markdown",
   "id": "a2dcec07",
   "metadata": {},
   "source": [
    "### 1. Identify if there are any restaurant chains present in the dataset.\n"
   ]
  },
  {
   "cell_type": "markdown",
   "id": "81d484f4",
   "metadata": {},
   "source": [
    " A restaurant chain is a set of related restaurants in many different locations that are either under shared corporate ownership or franchising agreements.\n"
   ]
  },
  {
   "cell_type": "code",
   "execution_count": 33,
   "id": "43977496",
   "metadata": {},
   "outputs": [
    {
     "name": "stdout",
     "output_type": "stream",
     "text": [
      "Identified Restaurant Chains:\n",
      "['Din Tai Fung' 'Silantro Fil-Mex' 'Coco Bambu' 'Garota de Ipanema'\n",
      " 'Chick-fil-A' 'The National' 'Mellow Mushroom' \"Rhinehart's Oyster Bar\"\n",
      " 'Texas Roadhouse' 'Granite City Food & Brewery' 'Taste of India'\n",
      " \"Chili's Grill & Bar\" 'Los Agaves' 'The Cafe' 'HuHot Mongolian Grill'\n",
      " 'Ichiban' 'Gazebo' 'The Crab Shack' 'Ceviche Tapas Bar & Restaurant'\n",
      " \"Applebee's\" 'Punjab Grill' 'The Cheesecake Factory' 'Barbeque Nation'\n",
      " 'Farzi Cafe' \"AB's Absolute Barbecues\" 'Hard Rock Cafe' 'SpiceKlub'\n",
      " 'Pizza Hut' \"Nando's\" \"TGI Friday's\" 'Pind Balluchi' \"La Pino'z Pizza\"\n",
      " 'Mocha' 'KFC' \"McDonald's\" 'Subway' 'Hot Stuff' 'Paradise' 'Sagar Ratna'\n",
      " 'Moti Mahal Delux' 'The Yellow Chilli' 'Kanha Sweets' \"Domino's Pizza\"\n",
      " 'Bhoj Restaurant' 'Bombay Brasserie' 'Onesta' 'Truffles'\n",
      " \"AB's - Absolute Barbecues\" 'Bake N Shake' '10 Downing Street'\n",
      " 'Manohar Dairy And Restaurant' 'Indian Coffee House' 'Mainland China'\n",
      " \"Chili's\" 'Pirates of Grill' 'Taco Bell' \"Karim's\" 'Burgrill' 'Palmshore'\n",
      " 'Dunkin Donuts' 'Punjab Restaurant' 'Aggarwal Sweet Corner'\n",
      " 'The Chaiwalas' 'Green Chick Chop' 'Aapki Rasoi' 'Punjabi Rasoi'\n",
      " 'Kebab Xpress' 'Suruchi' \"Berco's\" \"Dunkin' Donuts\" 'The Chocolate Room'\n",
      " 'Yo! China' \"Giani's\" 'Momo-Cha' 'Shree Rathnam' 'Gelato Vinto'\n",
      " 'Maggi Point' 'Invitation' 'Chimney' 'Sanjha Chulha' 'Frontier'\n",
      " 'Garam Masala' 'Al Bake' 'Cafe Coffee Day' 'Chicago Pizza' 'Gulab'\n",
      " \"Nirula's\" 'Twenty Four Seven' 'Burger Point' 'Giani' 'Keventers'\n",
      " 'Perfect Bake' 'Ashoka Restaurant' 'Baskin Robbins' 'China Hot Pot'\n",
      " 'Red Chilli' 'Shree Bikaner Misthan Bhandar' 'Bikaner Misthan Bhandar'\n",
      " 'Desi Tadka' 'Republic of Chicken' 'Biryani Bot' \"Mother's Kitchen\"\n",
      " 'Kulcha King' 'Sardar A Pure Meat Shop' \"Mom's Kitchen\"\n",
      " 'Aggarwal Sweets Centre' 'Bawarchi' 'Bikaner Sweets & Bakers'\n",
      " 'Burger Xpress' 'Da Pizza Zone' 'Finger Licious' 'Mr. Brown'\n",
      " 'The Big Scoop' 'Barista' 'Burger King' 'Costa Coffee' \"Let's Noodle\"\n",
      " 'Mx Corn' \"Haldiram's\" 'The Dosa King' \"The Fisherman's Wharf\"\n",
      " \"Kwality Wall's Swirl's\" 'Yo! Dimsum' 'Behrouz Biryani' \"Faaso's\"\n",
      " 'Chaayos' 'The Pint Room' 'Big Wong XL' 'Amici Cafe' 'Au Bon Pain'\n",
      " 'Chai Point' 'Circus' 'Italiano' 'Krispy Kreme' 'Not Just Paranthas'\n",
      " 'Oh! Calcutta' 'Olive Bistro' 'Pita Pit' 'Raasta' 'Red Mango' 'Smaaash'\n",
      " 'Starbucks' \"Wendy's\" 'Cafe Delhi Heights' 'Instapizza' 'Made In Punjab'\n",
      " 'SodaBottleOpenerWala' 'Nooba' \"L'Opera\" 'The Breakfast Club'\n",
      " 'Sugar & Spice - Le Marche' 'Crudo Juicery' 'Pizza Hut Delivery'\n",
      " 'Sibang Bakery' 'Sonya Bakery Cafe' 'Viva Hyderabad' 'Wai Yu Mun Ching'\n",
      " 'Night Food Xprs' 'Weird Time Food' 'Twigly' 'Asian Haus'\n",
      " 'Biryani By Kilo' 'Captain Grub' 'Shama Chicken Corner' 'Apni Rasoi'\n",
      " 'Cake 24x7' 'Cake Point' 'Chennai Express' 'Crust N Cakes' 'Dabba Meat'\n",
      " 'Goli Vada Pav No. 1' 'Punjabi Zaika' 'Rasoi' 'Tpot' 'Burger Hut'\n",
      " 'Deez Biryani & Kebabs' 'Veg Ex' 'ZASTY' 'Flying Cakes' 'Punjabi Tadka'\n",
      " 'Coldpress Company' 'First Eat' 'Baking Bad' 'Kebab Gali' 'Bun Intended'\n",
      " 'Happy Hakka' 'Drifters Cafe' 'The Mad Teapot/The Wishing Chair'\n",
      " 'Zaffran' 'Captain Bill$ Deliverz' 'Go Kylin' 'Side Wok'\n",
      " 'The Diet Kitchen' 'Om Sweets & Snacks' 'Eggers Madhouse' 'Nukkadwala'\n",
      " \"Ammu's South Indian Restaurant\" 'Doughlicious' 'FreshMenu' 'New Zaika'\n",
      " 'bu��no' 'Street Foods by Punjab Grill' \"Tibb's Frankie\"\n",
      " 'The Belgian Fries Company' 'Dilli Rasoi' 'Pakwan' 'Metro Dhaba'\n",
      " 'Hot Cherries' 'Caffe Tonino' \"Carl's Jr.\" 'Delhi Club House' 'GoGourmet'\n",
      " 'Bikaner Sweets & Restaurant' 'Hot & Spicy' 'Pizza King'\n",
      " 'Radha Swami Shudh Vaishno Dhaba' 'Wah Ji Wah'\n",
      " 'New Town Cafe - Park Plaza' 'Angels in my Kitchen' \"Colonel's Kababz\"\n",
      " 'Hong Kong Express' 'Shamji Sweets' 'Bakingo' 'Juice Lounge'\n",
      " \"KB's Kulfi & Icecream\" 'Madras Cafe' 'Moti Mahal Delux Tandoori Trail'\n",
      " 'Konetto Pizza' 'China Hut' 'Delight Express' 'Nite Bites'\n",
      " 'Bikaner Sweets' 'Snack Shack' 'Biryani Art' 'Faasos' 'Ovenstory Pizza'\n",
      " 'Firangi Bake' 'Kettle & Kegs' 'Matchbox' 'Bikanervala' 'Gola Sizzlers'\n",
      " 'Jungle Jamboree' 'Swagath' 'Gung The Palace' 'Mamagoto' 'Angeethi'\n",
      " 'Frozen Factory' 'Mogambo Kitchen' 'Wow! Momo' 'Bakers Oven'\n",
      " 'Burger Joint' 'Dilli Light' 'Bikkgane Biryani'\n",
      " 'Yomo-Your Only Momo Outlet' 'Flavours' 'Raj Restaurant'\n",
      " 'Chinese Fast Food' 'Chinese Food' 'Zizo' 'Midnight Hunger'\n",
      " 'Biryani Express' \"Chawla's�_\" 'Kings Kulfi' \"DCK- Dana Choga's Kitchen\"\n",
      " 'KC Bakers' 'Gopala' 'Halki Aanch' \"Qureshi's Kabab Corner\"\n",
      " 'Burger Singh' 'Shri Ram Restaurant' 'Tea Halt' 'The Golden Dragon'\n",
      " \"Fat Lulu's\" 'Shyam Sweets' 'Rollmaal' 'Speedy Chow' 'Arabian Nites'\n",
      " 'Patiala Shahi' 'The Kathis' 'Organic Express' 'Dilli Darbar'\n",
      " 'Hyderabad House' 'Kake Da Hotel' 'Green Leaf' 'Town Hall' 'Chokola'\n",
      " 'Chauhan Hotel' 'Madras Coffee House' 'Urban Dhaba' 'A Piece of Paris'\n",
      " 'Aggarwal Sweets & Restaurant' 'Kathi Junction' 'Chinese Corner'\n",
      " 'Underdoggs Sports Bar & Grill' 'Liquid' 'Little Chef' \"Joey's Pizza\"\n",
      " 'Tea Villa Cafe' 'Nanking' 'Spice Route' 'The Bake Studio'\n",
      " 'Barbeque Ville' 'Little Italy' 'Say Cheese' 'Southy' 'BarShala'\n",
      " 'Clever Fox Cafe' 'BTW' 'Puri Bakers' 'Jaiveer Naan & Chaap'\n",
      " \"Aggarwal's Sweets Paradise\" 'Lazeez Restaurant'\n",
      " 'Madhuvan Chinese Fast Food' 'Punjabi Chaap Corner' 'Alaturka'\n",
      " 'Big Fat Sandwich' 'Aggarwal Sweet India' 'Bobby Tikki Wala'\n",
      " 'Fresh n Refresh' 'Garden Hut' 'Fabulous Cake Bites' 'Amar Bakery'\n",
      " 'Magic Masala' '34, Chowringhee Lane' 'Bengal Sweet Corner'\n",
      " 'Metro Fast Food' \"Nagpal's\" 'Shankar Fast Food' 'The Mirch Masala'\n",
      " '6 Pack Momos' 'Bikaner Kesarvala' \"Nirula's Ice Cream\"\n",
      " \"VadaPav 'n' Frankie\" \"Kanwarji's\" 'Wheelyz' 'Bharat Sweets'\n",
      " 'SGF - Spice Grill Flame' 'Munch Nation' \"Bhimsain's Bengali Sweet House\"\n",
      " \"Nathu's Sweets\" 'Bijoli Grill' 'Balaji Dhaba' 'Habibi Express'\n",
      " 'China Town' 'Vaishno Punjabi Dhaba' 'Brijwasi Restaurant' 'Comesum'\n",
      " 'Punjabi Chicken' 'Standard Sweets' 'Bunty Dhaba' 'Kolkata Biryani House'\n",
      " 'Kolkata Hot Kathi Roll' 'Baba Chicken Ludhiana Wale' 'Embassy' 'Hot Pot'\n",
      " 'The Night Owl' 'Cafe Coffee Day - The Lounge' 'Khan Chicken Biryani'\n",
      " 'Bon Bon Pastry Shop' 'Moksha' 'Pebble Street' 'Garam Dharam'\n",
      " 'Naturals Ice Cream' 'Cafe Coffee Day The Square' 'China Garden'\n",
      " 'Desi Vibes' 'Khan Chacha' 'La Americana' \"Nizam's Kathi Kabab\"\n",
      " 'Punjabi By Nature' 'Sbarro' 'Shake Square' 'Teddy Boy'\n",
      " 'The Flying Saucer Cafe' 'The Junkyard Cafe' 'Biryani Blues' 'Caffe 9'\n",
      " 'Saravana Bhavan' 'Le Chef' 'Kake Di Hatti' 'Zaika' 'Changezi Chicken'\n",
      " 'Jahangeer Foods' 'Rajdhani Restaurant' \"Chawla's Tandoori Junction\"\n",
      " 'Chawnsan Chef' 'Choco Kraft' 'Country Curries'\n",
      " 'Fluffles - The Fluffy Waffle Co.' \"Oberoi's\" \"Punjabee's Darbar\"\n",
      " 'Zaaika Junction' 'Arabian Delites' 'Cafe Brown Sugar' 'Cocoberry'\n",
      " 'D�_ner Grill' 'Koyla Kebab' 'Muradabadi Shahi Biryani & Chicken Corner'\n",
      " 'Defence Bakery' 'Hwealthcafe' 'The Culinary Pitaara' 'Whipped' 'Pitstop'\n",
      " 'Laxmi Ice Cream' \"QD's Restaurant\" 'Wood Box Cafe' 'Papa Buns'\n",
      " 'Vaishno Rasoi' 'Slice of Italy' 'Aggarwal Bikaner Sweets' 'Chao Cart'\n",
      " 'Pizza Station' 'South Indian Corner' 'Urban Punjab' 'Bikaner Rasoi'\n",
      " 'Pizza Hub' 'Grillz' 'Muffins' 'Habibi' 'Tikka Town' '4700BC Popcorn'\n",
      " 'Foodhall' 'The Beer Cafe' 'Big Chill' 'Cinnabon' 'RollsKing'\n",
      " 'Mad Over Donuts' 'Meatwale.com' 'Aggarwal Sweets' 'Hasty Tasty'\n",
      " 'Litti.In' 'Vadapav Junction' 'Da Pizza Corner' 'Ghar Ka Khana'\n",
      " 'Kitchen King' 'Roll Corner' 'Bake Club' \"Cafe Buddy's\" 'Chinese King'\n",
      " 'Wrapss' 'Naivedyam' 'Drool Waffles' 'Joost Juice Bar'\n",
      " 'The Chatter House' 'Foodies' 'Amul Ice-Cream Parlour' \"Chawla's\"\n",
      " \"Punjabi's Veg Grill\" 'Ramesh Vaishno Dhaba' 'The Chinese Hut'\n",
      " 'Tandoori Tadka' 'The Square Meal' 'Hunger Strike' 'Cafe Diva'\n",
      " 'Cafe Turtle' 'Prince Chaat Corner' 'Wagh Bakri Tea Lounge' 'Dezertfox'\n",
      " 'Druk' 'Pho King Awesome' 'Stop My Starvation'\n",
      " 'MR.D - Deliciousness Delivered' 'Relax Xpress' 'Spanish Delights'\n",
      " 'Beijing Street' 'Movenpick' 'Nutritious Nation' 'Open Oven'\n",
      " 'Twisted Tacos' 'Dilli BC' 'Sumo Sushi' 'Gupta Ji Ka Dhaba' 'The Tandoor'\n",
      " 'Adyar Ananda Bhavan' 'Tamura' 'The Chai Story' 'Pastry Palace'\n",
      " 'The Pirates Of China Town' 'Delhi Chaat Bhandar' 'Singh Chicken'\n",
      " 'Big Yellow Door' 'Ashok Meat Wala' \"Baker's Stop\" 'Roti Aur Boti'\n",
      " 'Aap Ki Khatir' 'Flavours Kitchen' '34 Parkstreet Lane'\n",
      " 'Blue Tokai Coffee Roasters' 'Cakes & Bakes' 'Miam' 'Momos House'\n",
      " 'Riyaz Chicken Corner' 'Natural Ice Cream' 'Havmor Ice Cream'\n",
      " 'South Cafe' 'Sri Balaji' 'All About Food' 'Imperfecto' 'Out Of The Box'\n",
      " 'Smoke House Deli' 'Mysore Cafe' \"Kamal's\" 'Jain Restaurant'\n",
      " 'Chutneez Restaurant Lounge & Bar' \"Flirty Momo's\" 'Khalsa Veg Corner'\n",
      " 'Papa Veg Chinese Food' 'Singz' 'Kati Roll Cottage' 'Mr. Momo'\n",
      " 'Wah G Wah' 'The Barbeque Company' 'Qureshi Kabab Corner' 'Golden Bakery'\n",
      " 'Hira Sweets' 'New Kadimi' 'Polka Pastry & Snack Bar' 'Pudding & Pie'\n",
      " 'Midnight Hunger Hub' 'Food Scouts' 'Chinese Hut' 'Beliram Degchiwala'\n",
      " 'Delhi Biryani Hut' 'Chai Garam' \"Jack Po!tato's\" 'Chai Mantra'\n",
      " 'Kerala Cafe' 'Aggarwal Bikaneri Sweets' 'Aggarwal Sweets India'\n",
      " 'Mr. Sub' 'Roll Club' 'Big Dragon' 'Just Vada Pav' 'Khidmat'\n",
      " \"Chawla's Chic Inn\" \"Gullu's\" 'Tikka Junction' 'Chowringhee'\n",
      " 'Cones & Curries' 'Manohar Bikkaneri' \"Sethi's The Cake Shop\"\n",
      " 'Shawarma Wala' 'The Midnight Heroes' 'Nazeer Foods' 'Goosebumps'\n",
      " 'Oberoi Biryani' 'Sandoz' 'Spooky Sky' 'Anjlika Pastry Shop'\n",
      " \"Shawarma King's\" \"Harry's Bar + Cafe\" 'The Coffee Bean & Tea Leaf'\n",
      " 'Perch Wine & Coffee Bar' 'The Artful Baker' 'The Big Chill Cakery'\n",
      " 'Chaap Point' 'Syall Kotian Da Dhaba' 'Cook Du Kdu' 'Health Buzzz'\n",
      " 'Rajshree' 'Super Snacks' 'Murliwala Bakers' 'Rainbows'\n",
      " 'OCD - Online Cake Delivery' 'Puja Sandwich House' 'Baked Buns'\n",
      " 'Fast Trax' 'Sushiya Express' 'Yadav Sweets' 'Hornbill' 'Mahi Rasoi'\n",
      " 'Paapi Paet' 'Kolkata Kathi Roll' 'Snack Junction' 'Snacks Point'\n",
      " 'Aggarwal Sweet & Bakers' 'Ankur Family Restaurant' 'Hot Joint Fast Food'\n",
      " \"Mr. Baker's\" 'Night Food Delivery' 'The Chef' \"Senorita's\" 'Chawlas 2'\n",
      " 'U Like' 'New Madras Cafe' 'Dana Pani' 'Hotel Malabar' 'Punjabi Dhaba'\n",
      " 'True Blue' 'Zaika Kathi Rolls' 'Mitra Da Dhaba' 'Royal Spice' 'Al Zaika'\n",
      " 'The China Town' 'Pandit Ji Ki Apni Rasoi' 'The Great Kabab Factory'\n",
      " 'Dosa Plaza' 'Basil Tree' 'Bats On Delivery' 'Chinese Food Corner'\n",
      " 'Kumar Pastry Shop' 'Paramjeet Machi Wala' 'Pasta Hub'\n",
      " 'Lasha Chinese Food' 'Aggarwal Sweet Centre' 'Chilli Tadka' 'Raj Rasoi'\n",
      " \"Soya Bite's\" 'Anand Sweets' 'Jyoti Sweets' 'Khana Khazana'\n",
      " 'Flavors Of London' 'Chinese Hot' 'Fresh Meat CO'\n",
      " 'Americana Kitchen and Bar' 'Dolce Gelato' 'New Punjabi Khana'\n",
      " 'Niti Shake & Ice Cream Hub' 'Pasta Hut' 'Sandwich King' 'Chaska'\n",
      " 'Evergreen Sweets' \"Zooby's Kitchen\" 'Bikano Chat Cafe' 'BonJuz'\n",
      " 'The Blue Tandoor' 'Green Chilli' 'Haldiram Bhujiawala' 'Pizza Yum'\n",
      " 'Pizza Day' 'Shree Durga Dosa' 'Biryaniwala' \"Chawla's Tandoori Xpress\"\n",
      " 'Pandey Chinese Hut' 'Ram Chinese Food' 'The Taste' 'Gupta Chat Corner'\n",
      " 'Moon Bite' 'Food Plaza' 'The Cake Shop' 'Anupam Sweets'\n",
      " 'Nazeer Delicacies' 'Imly' 'Food Factory' 'South Indian Cafe'\n",
      " 'Chawla Family Restaurant' 'Otik Cake Shop'\n",
      " 'Chalte Firte Momos & Special Foods' 'Amritsari Dhaba'\n",
      " \"Hangchuaa's Chinese Food Corner\" 'High On Burgers'\n",
      " 'Riyaz Biryani Corner' 'Rasoi - The Indian Zaika' 'Pizza Diet' 'D Food'\n",
      " 'Madras Dosa & Chinese' 'Mitthu Tikki Wala' 'Shalimar Vyanjan'\n",
      " 'Street Cafe' 'Cake Palace' 'Moti Mahal Delux- Legendary Culinary'\n",
      " 'Special Chicken Biryani' 'South Indian Hut' 'Bhappe Di Hatti'\n",
      " 'Grover Sweets' 'Hawkers' 'Tipu Sultan' 'Night Munchers' 'Food Express'\n",
      " 'Tandoori Junction' 'EDC Mania' 'JSB Evergreen Snack & Sweets'\n",
      " '221 B Baker Street' 'Theos' 'Mirchievous' 'Royale Bakers' 'Sadda Adda'\n",
      " 'Chai Thela' 'Punjabi Pakwaan' 'Breaktym' \"Chawla's 2\" 'Yumm Biryani'\n",
      " 'Aureo Dine & Bake House' 'Caff�� La Poya' 'Essen Foods' \"Kamboj's\"\n",
      " 'Hungry - I' 'Oh Buoy' \"Hunger's Hub\" 'Big Biryani' 'Rolling Beans'\n",
      " 'Super Cake Shop' 'Wild Chef House' 'Sagar Dhaba'\n",
      " 'Green Valley Chinese Food' \"Hurry's Paratha\" 'Nawabi Mughlai Zaika'\n",
      " 'The Kitchen' 'Baker Street' 'Fit Bites' 'Hungry Minister' 'Public Cafe'\n",
      " 'Crazy Noodles' 'Dev Food' 'Reena Restaurant' 'Shahenshah'\n",
      " 'Green Restaurant' 'Biryani Vice' \"WTF - World's Tastiest Food\"\n",
      " 'The Roll Van' 'Black Pepper' 'Kake Da Dhaba' 'Whatslife.in'\n",
      " 'Mithaas Sweets' 'Mithaas' 'Bake Walkers' 'Kesarwa Bakez' 'Brown Town'\n",
      " \"Bikaner's\" 'Adarsh Kulfi' 'Tea Trails' 'Effingut Brewerkz'\n",
      " 'Kaveri Restaurant And Caterers' 'Wok On Fire' 'The Creamery'\n",
      " 'Talaga Sampireun' 'Fish Streat' 'Chaophraya' \"Jamie's Italian\"\n",
      " 'San Carlo' 'Gymkhana' 'Dishoom' 'Timboo Cafe' 'D�_vero��lu']\n",
      "\n",
      "Number of restaurant Chain found : 734\n"
     ]
    }
   ],
   "source": [
    "# Convert restaurant names to lowercase for case-insensitive matching\n",
    "df1['Restaurant Name lower'] = df1['Restaurant Name'].str.lower()\n",
    "\n",
    "# Identify restaurant chains\n",
    "chains = df1[df1.duplicated('Restaurant Name', keep=False)]\n",
    "\n",
    "# Display the identified chains\n",
    "if not chains.empty:\n",
    "    print(\"Identified Restaurant Chains:\")\n",
    "    print(chains['Restaurant Name'].unique())\n",
    "else:\n",
    "    print(\"No restaurant chains identified.\")\n",
    "print()\n",
    "print(f'Number of restaurant Chain found : {len(chains[\"Restaurant Name\"].unique())}')"
   ]
  },
  {
   "cell_type": "markdown",
   "id": "71849886",
   "metadata": {},
   "source": [
    "### Observation\n",
    "1. There are 734 restuarant chain are present."
   ]
  },
  {
   "cell_type": "markdown",
   "id": "fa178ddc",
   "metadata": {},
   "source": [
    "### 2. Analyze the ratings and popularity of different restaurant chains.\n"
   ]
  },
  {
   "cell_type": "code",
   "execution_count": 34,
   "id": "16adacee",
   "metadata": {},
   "outputs": [
    {
     "name": "stdout",
     "output_type": "stream",
     "text": [
      "Restaurant Chains Analysis:\n",
      "           Restaurant Name  Aggregate rating  Votes\n",
      "0                      #45               3.6    209\n",
      "1             #Dilliwaala6               3.7    124\n",
      "2             #InstaFreeze               0.0      2\n",
      "3              #OFF Campus               3.7    216\n",
      "4             #Urban Caf��               3.3     49\n",
      "...                    ...               ...    ...\n",
      "7441    t Lounge by Dilmah               3.6     34\n",
      "7442                tashas               4.1    374\n",
      "7443              wagamama               3.7    131\n",
      "7444  {Niche} - Cafe & Bar               4.1    492\n",
      "7445     �ukura��a Sofras۱               4.4    296\n",
      "\n",
      "[7446 rows x 3 columns]\n"
     ]
    }
   ],
   "source": [
    "\n",
    "# Convert restaurant names to lowercase for case-insensitive matching\n",
    "df1['Restaurant Name'] = df1['Restaurant Name'].str.lower()\n",
    "\n",
    "# Group by restaurant names and calculate average rating and total votes\n",
    "chain_stats = df.groupby('Restaurant Name').agg({\n",
    "    'Aggregate rating': 'mean',\n",
    "    'Votes': 'sum'\n",
    "}).reset_index()\n",
    "\n",
    "# Display the analysis results\n",
    "print(\"Restaurant Chains Analysis:\")\n",
    "print(chain_stats)"
   ]
  },
  {
   "cell_type": "markdown",
   "id": "71d03e52",
   "metadata": {},
   "source": [
    "### Summary \n",
    "1. Total 734 number of restaurant chain are found.\n",
    "2. Average Rating:\n",
    "Identify the restaurant chains with the highest average ratings. These chains are likely to be popular among customers and may have a reputation for providing excellent dining experiences.\n",
    "\n",
    "3. Popularity Based on Votes:\n",
    "Examine the total votes for each restaurant chain. Higher total votes suggest greater popularity and may indicate that a chain is frequently visited by customers.\n",
    "\n"
   ]
  },
  {
   "cell_type": "code",
   "execution_count": 35,
   "id": "3db31c94",
   "metadata": {},
   "outputs": [
    {
     "name": "stdout",
     "output_type": "stream",
     "text": [
      "Rating text\n",
      "Average      3734\n",
      "Excellent     300\n",
      "Good         2096\n",
      "Not rated    2148\n",
      "Poor          186\n",
      "Very Good    1078\n",
      "Name: Restaurant Name, dtype: int64\n"
     ]
    }
   ],
   "source": [
    "# Extra question- Analyse the data on rating Text.\n",
    "rating_text = df1.groupby('Rating text')\n",
    "print(rating_text['Restaurant Name'].count())"
   ]
  },
  {
   "cell_type": "code",
   "execution_count": 36,
   "id": "221a079c",
   "metadata": {},
   "outputs": [],
   "source": [
    "a = df1[df1['Rating text']=='Average']['Rating text'].count()\n",
    "b = df1[df1['Rating text']=='Excellent']['Rating text'].count()\n",
    "c = df1[df1['Rating text']=='Good']['Rating text'].count()\n",
    "d = df1[df1['Rating text']=='Not rated']['Rating text'].count()\n",
    "e = df1[df1['Rating text']=='Poor']['Rating text'].count()\n",
    "f = df1[df1['Rating text']=='Very Good']['Rating text'].count()"
   ]
  },
  {
   "cell_type": "code",
   "execution_count": 37,
   "id": "24aa367f",
   "metadata": {},
   "outputs": [
    {
     "data": {
      "text/plain": [
       "(-2.2553169816952194,\n",
       " 2.2026341507113334,\n",
       " -2.216475856857417,\n",
       " 2.239803870572853)"
      ]
     },
     "execution_count": 37,
     "metadata": {},
     "output_type": "execute_result"
    },
    {
     "data": {
      "image/png": "[encoded data removed]",
      "text/plain": [
       "<Figure size 432x288 with 1 Axes>"
      ]
     },
     "metadata": {},
     "output_type": "display_data"
    }
   ],
   "source": [
    "\n",
    "# data to plot\n",
    "labels_class = \"Average\", \"Excellent\", \"Good\", \"Not rated\",\"Poor\", \"Very Good\"\n",
    "sizes = [a,b,c,d,e,f]\n",
    "\n",
    "fig, ax = plt.subplots()\n",
    "# plot\n",
    "ax.pie(sizes, labels=labels_class, autopct = '%0.1f%%', radius=2)\n",
    "# title\n",
    "plt.title('Restaurant by Rating Text', fontsize=20)\n",
    "# legend\n",
    "plt.legend(loc=\"best\")\n",
    "# produces a perfectly circular chart\n",
    "plt.axis('equal')"
   ]
  },
  {
   "cell_type": "markdown",
   "id": "090355dd",
   "metadata": {},
   "source": [
    "### Observation\n",
    "1. Customer has Average rating text of 3734 is higest in the overall rating.\n",
    "\n",
    "2. data show that only 186 restaurant has poor rating givan by customer approx 2 %.\n"
   ]
  },
  {
   "cell_type": "markdown",
   "id": "5514c294",
   "metadata": {},
   "source": [
    "### Level 3 ---------------------------------------------------------------"
   ]
  },
  {
   "cell_type": "markdown",
   "id": "632c3771",
   "metadata": {},
   "source": [
    "#### Task 2 :  Votes Analysis -----------------------------------------------------------"
   ]
  },
  {
   "cell_type": "markdown",
   "id": "28469691",
   "metadata": {},
   "source": [
    "### 1. Identify the restaurants with the highest and lowest number of votes.\n"
   ]
  },
  {
   "cell_type": "code",
   "execution_count": 38,
   "id": "4e3896bb",
   "metadata": {},
   "outputs": [
    {
     "name": "stdout",
     "output_type": "stream",
     "text": [
      "Restaurants with the Highest Votes:\n",
      "    Restaurant Name  Votes\n",
      "728            toit  10934\n",
      "\n",
      "Restaurants with the Lowest Votes:\n",
      "                 Restaurant Name  Votes\n",
      "69              cantinho da gula      0\n",
      "874                the chaiwalas      0\n",
      "879           fusion food corner      0\n",
      "880                punjabi rasoi      0\n",
      "887                baskin robbin      0\n",
      "...                          ...    ...\n",
      "9044               6 packs momos      0\n",
      "9098                   cafe' wow      0\n",
      "9099  chef's basket pop up caf��      0\n",
      "9103            the hangout-deli      0\n",
      "9111                    platters      0\n",
      "\n",
      "[1094 rows x 2 columns]\n"
     ]
    }
   ],
   "source": [
    "\n",
    "votes_data = df1[['Restaurant Name','Votes']]\n",
    "highest_votes = votes_data[votes_data['Votes'] == votes_data['Votes'].max()]\n",
    "lowest_votes = votes_data[votes_data['Votes'] == votes_data['Votes'].min()]\n",
    "\n",
    "print(\"Restaurants with the Highest Votes:\")\n",
    "print(highest_votes)\n",
    "\n",
    "print(\"\\nRestaurants with the Lowest Votes:\")\n",
    "print(lowest_votes)"
   ]
  },
  {
   "cell_type": "markdown",
   "id": "b695f7f1",
   "metadata": {},
   "source": [
    "### 2. Analyze if there is a correlation between the number of votes and the rating of a restaurant.\n"
   ]
  },
  {
   "cell_type": "code",
   "execution_count": 39,
   "id": "16f41c8e",
   "metadata": {},
   "outputs": [
    {
     "name": "stdout",
     "output_type": "stream",
     "text": [
      "Correlation between Votes and Aggregate rating: 0.31\n"
     ]
    },
    {
     "data": {
      "image/png": "[encoded data removed]",
      "text/plain": [
       "<Figure size 432x288 with 1 Axes>"
      ]
     },
     "metadata": {},
     "output_type": "display_data"
    }
   ],
   "source": [
    "correlation = df1['Votes'].corr(df1['Aggregate rating'])\n",
    "\n",
    "# Display the correlation coefficient\n",
    "print(f\"Correlation between Votes and Aggregate rating: {correlation:.2f}\")\n",
    "\n",
    "# Create a scatter plot to visualize the relationship\n",
    "sns.scatterplot(x='Votes', y='Aggregate rating', data=df1)\n",
    "plt.title('Correlation between Votes and Aggregate rating')\n",
    "plt.xlabel('Number of Votes')\n",
    "plt.ylabel('Aggregate Rating')\n",
    "plt.show()\n",
    "    "
   ]
  },
  {
   "cell_type": "markdown",
   "id": "a737f960",
   "metadata": {},
   "source": [
    "### Observation\n",
    "\n",
    "1. The correlation coefficient is close to 1 it means Positive Correlation between Votes and Aggregate rating\n",
    "2. It suggests a strong positive correlation. This means that as the number of votes increases, the aggregate rating tends to increase as well. \n",
    "3. Customers are likely to give higher ratings to restaurants that receive more votes.\n",
    "4. A positive correlation could suggest that more engaged customers, who take the time to vote, are generally satisfied with their dining experiences. \n",
    "5. This could be valuable information for understanding customer preferences and satisfaction."
   ]
  },
  {
   "cell_type": "markdown",
   "id": "b1017bb5",
   "metadata": {},
   "source": [
    "#### Task 3: Price Range vs. Online Delivery and Table Booking ---------------"
   ]
  },
  {
   "cell_type": "markdown",
   "id": "eae8c9b7",
   "metadata": {},
   "source": [
    "### 1. Analyze if there is a relationship between the price range and the availability of online delivery and table booking.\n"
   ]
  },
  {
   "cell_type": "code",
   "execution_count": 40,
   "id": "5e6edcc7",
   "metadata": {},
   "outputs": [
    {
     "name": "stdout",
     "output_type": "stream",
     "text": [
      "Contingency Table:\n",
      "Has Online delivery    No        Yes     \n",
      "Has Table booking      No  Yes    No  Yes\n",
      "Price range                              \n",
      "1                    3737    0   700    1\n",
      "2                    1711  116  1163  123\n",
      "3                     621  373   140  271\n",
      "4                     299  234    13   40\n"
     ]
    },
    {
     "data": {
      "image/png": "[encoded data removed]",
      "text/plain": [
       "<Figure size 432x288 with 2 Axes>"
      ]
     },
     "metadata": {},
     "output_type": "display_data"
    }
   ],
   "source": [
    "\n",
    "import pandas as pd\n",
    "# Cross-tabulate the data to create a contingency table\n",
    "cross_table = pd.crosstab(index=df1['Price range'], \n",
    "                          columns=[df1['Has Online delivery'], \n",
    "                                   df1['Has Table booking']])\n",
    "\n",
    "# Display the contingency table\n",
    "print(\"Contingency Table:\")\n",
    "print(cross_table)\n",
    "\n",
    "# Create a heatmap to visualize the relationship\n",
    "sns.heatmap(cross_table, annot=True, cmap=\"YlGnBu\", fmt=\"d\")\n",
    "plt.title('Relationship between Price Range, Online Delivery, and Table Booking')\n",
    "plt.xlabel('Online Delivery and Table Booking Availability')\n",
    "plt.ylabel('Price Range')\n",
    "plt.show()\n"
   ]
  },
  {
   "cell_type": "markdown",
   "id": "286817d1",
   "metadata": {},
   "source": [
    "### Observation:\n",
    "\n",
    "1. Affordability and Services:\n",
    "There's a pattern related to the affordability of restaurants based on their price range and the availability of additional services. The higher-priced restaurants (Price range 4) might offer both online delivery and table booking, while lower-priced ones (Price range 1) may not.\n",
    "\n",
    "2. Customer Experience:\n",
    "If higher-priced restaurants commonly offer additional services, it might be a competitive advantage to provide a comprehensive dining experience.\n",
    "\n",
    "3. Online Delivery across price range\n",
    "The heatmap show that, the distribution of online delivery availability across different price ranges. \n",
    "\n",
    "4. Service Combination\n",
    "The online delivery and Take a way combination of service at price range 2 is more common."
   ]
  },
  {
   "cell_type": "markdown",
   "id": "256cf10e",
   "metadata": {},
   "source": [
    "### 2. Determine if higher-priced restaurants are more likely to offer these services.\n"
   ]
  },
  {
   "cell_type": "code",
   "execution_count": 41,
   "id": "ade76bec",
   "metadata": {},
   "outputs": [],
   "source": [
    "\n",
    "#lable No as 0 , and Yesl as 1\n",
    "df1.loc[df1['Has Table booking'] == 'No','Has Table booking'] = 0\n",
    "df1.loc[df1['Has Table booking'] == 'Yes','Has Table booking'] = 1\n",
    "\n",
    "df1.loc[df1['Has Online delivery'] == 'No','Has Online delivery'] = 0\n",
    "df1.loc[df1['Has Online delivery'] == 'Yes','Has Online delivery'] = 1"
   ]
  },
  {
   "cell_type": "code",
   "execution_count": 42,
   "id": "8a3eb17b",
   "metadata": {},
   "outputs": [
    {
     "name": "stdout",
     "output_type": "stream",
     "text": [
      "Percentage of Restaurants Offering Services by Price Range:\n",
      "   Price range  Has Online delivery  Has Table booking\n",
      "0            1             0.157954           0.000225\n",
      "1            2             0.413106           0.076775\n",
      "2            3             0.292527           0.458363\n",
      "3            4             0.090444           0.467577\n"
     ]
    }
   ],
   "source": [
    "# Group by Price Range and calculate the percentage of restaurants offering each service\n",
    "service_percentage = df1.groupby('Price range').agg({\n",
    "    'Has Online delivery': 'mean',\n",
    "    'Has Table booking': 'mean'\n",
    "}).reset_index()\n",
    "\n",
    "# Display the results\n",
    "print(\"Percentage of Restaurants Offering Services by Price Range:\")\n",
    "print(service_percentage)\n"
   ]
  },
  {
   "cell_type": "markdown",
   "id": "b5c6171a",
   "metadata": {},
   "source": [
    "### Observation\n",
    "1. Analyze whether the availability of online delivery and table booking correlates with higher customer engagement and loyalty. If customers perceive these services positively, it may contribute to repeat business and positive reviews.\n",
    "2. The insights for mid-priced restaurants (2,3). If mid-priced establishments also commonly offer these services, it indicates that providing online delivery and table booking is not exclusive to high-end dining and might be becoming a standard practice across various price ranges.\n",
    "3. The insights for price range (3,4) has good customer engagment for Table booking  as compare to online delivery."
   ]
  },
  {
   "attachments": {},
   "cell_type": "markdown",
   "id": "25b9def0",
   "metadata": {},
   "source": [
    "### INSIGHTS\n",
    "\n",
    "**Top Cuisine** - “North Indian” cuisine serve by 936 restaurants followed by “North Indian, Chinese”  and “Chinese” cuisine. This three are most common cuisine in the datasets. Approx. 9.81% of ” North Indian” cuisine serve by restaurant.\n",
    "\n",
    "**City Analysis** – The “New Delhi” city has highest number of restaurant and “Inner City“ is the highest in average rating i.e. 4.9. \n",
    "\n",
    "**Price Range Analysis** – 46.5 % of restaurant belongs to price range 1 i.e. 4438 restaurant . And 6.14 % belongs to price range 4.\n",
    "\n",
    "**Online delivery** – The 25.69 % restaurant has offer online delivery services as compare to other delivery option.\n",
    "\n",
    "**Rating** - The rating lies between 0 to 5, zero rating is highest and most common in the given range and the average votes received by restaurant is 156.77. The “Toit” restaurant received 10934 votes which is highest in all.\n",
    "\n",
    "**Cuisine combination** – “North Indian, Chinese” cuisine lies under the combination cuisine serve by 511 restaurants. \n",
    "\n",
    "**Average Rating** - The 734 restaurant chains with the highest average ratings. These chains are likely to be popular among customers and may have a reputation for providing excellent dining experiences.\n",
    "\n",
    "**Popularity Based on Votes** - Higher total votes suggest greater popularity and may indicate that a chain is frequently visited by customers.\n",
    "\n",
    "Customers are likely to give higher ratings to restaurants that receive more votes.\n",
    "\n",
    "A positive correlation could suggest that more engaged customers, who take the time to vote, are generally satisfied with their dining experiences. This could be valuable information for understanding customer preferences and satisfaction.\n"
   ]
  },
  {
   "cell_type": "markdown",
   "id": "1ac6e24a",
   "metadata": {},
   "source": [
    "### --------------------------------THANK YOU------------------------------"
   ]
  },
  {
   "cell_type": "code",
   "execution_count": null,
   "id": "6e7a1a05",
   "metadata": {},
   "outputs": [],
   "source": []
  }
 ],
 "metadata": {
  "kernelspec": {
   "display_name": "Python 3 (ipykernel)",
   "language": "python",
   "name": "python3"
  },
  "language_info": {
   "codemirror_mode": {
    "name": "ipython",
    "version": 3
   },
   "file_extension": ".py",
   "mimetype": "text/x-python",
   "name": "python",
   "nbconvert_exporter": "python",
   "pygments_lexer": "ipython3",
   "version": "3.9.7"
  }
 },
 "nbformat": 4,
 "nbformat_minor": 5
}
